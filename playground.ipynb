{
 "cells": [
  {
   "cell_type": "code",
   "execution_count": 2,
   "metadata": {},
   "outputs": [],
   "source": [
    "from alab_data import views\n",
    "from alab_data import *\n",
    "from alab_data.groups import Sample\n",
    "from alab_data.utils.dev import drop_collections\n",
    "from alab_data.units.nodes import WholeIngredient"
   ]
  },
  {
   "cell_type": "code",
   "execution_count": 3,
   "metadata": {},
   "outputs": [],
   "source": [
    "drop_collections()"
   ]
  },
  {
   "cell_type": "markdown",
   "metadata": {},
   "source": [
    "Add or pull all Actor's from the ActorView"
   ]
  },
  {
   "cell_type": "code",
   "execution_count": 4,
   "metadata": {},
   "outputs": [],
   "source": [
    "actorview = views.ActorView()"
   ]
  },
  {
   "cell_type": "code",
   "execution_count": 5,
   "metadata": {},
   "outputs": [
    {
     "data": {
      "text/plain": [
       "[]"
      ]
     },
     "execution_count": 5,
     "metadata": {},
     "output_type": "execute_result"
    }
   ],
   "source": [
    "actorview.get_by_tags([\"SolidStateALab\"])\n"
   ]
  },
  {
   "cell_type": "code",
   "execution_count": 6,
   "metadata": {},
   "outputs": [
    {
     "data": {
      "text/plain": [
       "ObjectId('6324ae46bbf4c9611e14a32e')"
      ]
     },
     "execution_count": 6,
     "metadata": {},
     "output_type": "execute_result"
    }
   ],
   "source": [
    "labman = Actor(\n",
    "    name=\"LabMan 30-105\", \n",
    "    tags=[\"SolidStateALab\"],\n",
    "    description=\"A robotic system that weighs and mixes powders in crucibles. Used to prepare samples for firing in furnaces. This is in building 30-105 at Lawrence Berkeley National Laboratory.\")\n",
    "\n",
    "tubefurnace1 = Actor(\n",
    "    name=\"TubeFurnace1 30-105\", \n",
    "    tags=[\"SolidStateALab\"],\n",
    "    description=\"A tube furnace in building 30-105 at Lawrence Berkeley National Laboratory.\")\n",
    "\n",
    "aeris = Actor(\n",
    "    name=\"Aeris 30-105\",\n",
    "    tags=[\"SolidStateALab\"],\n",
    "    description=\"An x-ray diffractometer. This is in building 30-105 at Lawrence Berkeley National Laboratory.\")\n",
    "\n",
    "operator = Actor(\n",
    "    name=\"Operator\",\n",
    "    description = \"A generic actor for any operation performed by a human. No need to name names!\")\n",
    "actorview.add(labman)\n",
    "actorview.add(tubefurnace1)\n",
    "actorview.add(aeris)\n",
    "actorview.add(operator)"
   ]
  },
  {
   "cell_type": "code",
   "execution_count": 7,
   "metadata": {},
   "outputs": [
    {
     "data": {
      "text/plain": [
       "<Actor: LabMan 30-105>"
      ]
     },
     "execution_count": 7,
     "metadata": {},
     "output_type": "execute_result"
    }
   ],
   "source": [
    "labman = actorview.get_by_name(\"LabMan 30-105\")\n",
    "labman"
   ]
  },
  {
   "cell_type": "markdown",
   "metadata": {},
   "source": [
    "Add or pull all analysis methods from AnalysisMethodView"
   ]
  },
  {
   "cell_type": "code",
   "execution_count": 8,
   "metadata": {},
   "outputs": [],
   "source": [
    "analysismethodview = views.AnalysisMethodView()"
   ]
  },
  {
   "cell_type": "code",
   "execution_count": 9,
   "metadata": {},
   "outputs": [
    {
     "data": {
      "text/plain": [
       "ObjectId('6324ae46bbf4c9611e14a330')"
      ]
     },
     "execution_count": 9,
     "metadata": {},
     "output_type": "execute_result"
    }
   ],
   "source": [
    "cnn_phaseID = AnalysisMethod(\n",
    "    name=\"CNN Phase ID\", \n",
    "    tags=[\"SolidStateALab\", \"machinelearning\"],\n",
    "    description=\"A convolutional neural network trained to identify phases in x-ray diffraction patterns. doi: something/something\")\n",
    "\n",
    "analysismethodview.add(cnn_phaseID)"
   ]
  },
  {
   "cell_type": "markdown",
   "metadata": {},
   "source": [
    "Add experimental data into the db"
   ]
  },
  {
   "cell_type": "code",
   "execution_count": 10,
   "metadata": {},
   "outputs": [],
   "source": [
    "m0 = Material(\n",
    "    name=\"Titanium Dioxide\",\n",
    "    formula=\"TiO2\",\n",
    ")\n",
    "\n",
    "p0 = Action(    \n",
    "    name=\"procurement\",\n",
    "    generated_materials=[m0],\n",
    "    actor=operator,\n",
    ")"
   ]
  },
  {
   "cell_type": "code",
   "execution_count": 11,
   "metadata": {},
   "outputs": [],
   "source": [
    "p1 = Action(\n",
    "    \"grind\",\n",
    "    ingredients = [\n",
    "        Ingredient(\n",
    "            material=m0,\n",
    "            amount=1,\n",
    "            unit=\"g\",\n",
    "        )\n",
    "    ],\n",
    "    actor=operator,\n",
    "    )\n",
    "m1 = p1.generated_materials[0]\n",
    "\n",
    "p2 = Action(\"sinter\", ingredients = [WholeIngredient(m1)], actor=tubefurnace1)\n",
    "m2 = p2.generated_materials[0]\n",
    "\n",
    "p3 = Action(\"grind\", ingredients = [WholeIngredient(m2)], actor=operator, final_step=True)\n",
    "m3 = p3.generated_materials[0]\n",
    "\n",
    "me0 = Measurement(\n",
    "    name=\"XRD\",\n",
    "    material=m3,\n",
    "    actor=aeris,\n",
    ")\n",
    "\n",
    "a0 = Analysis(\n",
    "    name=\"Phase Identification\",\n",
    "    measurement=me0,\n",
    "    analysis_method=cnn_phaseID\n",
    ")"
   ]
  },
  {
   "cell_type": "markdown",
   "metadata": {},
   "source": [
    "SampleView add to db"
   ]
  },
  {
   "cell_type": "code",
   "execution_count": 12,
   "metadata": {},
   "outputs": [],
   "source": [
    "s = Sample(name=\"first_sample\")\n",
    "for n in [p0, m0, p1, m1, p2, m2, p3, m3, me0, a0]:\n",
    "    s.add_node(n)"
   ]
  },
  {
   "cell_type": "code",
   "execution_count": 13,
   "metadata": {},
   "outputs": [],
   "source": [
    "from alab_data.views.groups import SampleView\n",
    "sv = SampleView()"
   ]
  },
  {
   "cell_type": "code",
   "execution_count": 14,
   "metadata": {},
   "outputs": [
    {
     "data": {
      "text/plain": [
       "{'_id': ObjectId('6324ae47bbf4c9611e14a33b'),\n",
       " 'name': 'first_sample',\n",
       " 'description': '',\n",
       " 'nodes': {'Material': [ObjectId('6324ae47bbf4c9611e14a331'),\n",
       "   ObjectId('6324ae47bbf4c9611e14a334'),\n",
       "   ObjectId('6324ae47bbf4c9611e14a336'),\n",
       "   ObjectId('6324ae47bbf4c9611e14a338')],\n",
       "  'Action': [ObjectId('6324ae47bbf4c9611e14a332'),\n",
       "   ObjectId('6324ae47bbf4c9611e14a333'),\n",
       "   ObjectId('6324ae47bbf4c9611e14a335'),\n",
       "   ObjectId('6324ae47bbf4c9611e14a337')],\n",
       "  'Analysis': [ObjectId('6324ae47bbf4c9611e14a33a')],\n",
       "  'Measurement': [ObjectId('6324ae47bbf4c9611e14a339')]},\n",
       " 'tags': []}"
      ]
     },
     "execution_count": 14,
     "metadata": {},
     "output_type": "execute_result"
    }
   ],
   "source": [
    "s.to_dict()"
   ]
  },
  {
   "cell_type": "code",
   "execution_count": 15,
   "metadata": {},
   "outputs": [
    {
     "data": {
      "text/plain": [
       "ObjectId('6324ae47bbf4c9611e14a33b')"
      ]
     },
     "execution_count": 15,
     "metadata": {},
     "output_type": "execute_result"
    }
   ],
   "source": [
    "sv.add(s)"
   ]
  },
  {
   "cell_type": "code",
   "execution_count": null,
   "metadata": {},
   "outputs": [],
   "source": []
  }
 ],
 "metadata": {
  "kernelspec": {
   "display_name": "Python 3.8.13 ('alab_data')",
   "language": "python",
   "name": "python3"
  },
  "language_info": {
   "codemirror_mode": {
    "name": "ipython",
    "version": 3
   },
   "file_extension": ".py",
   "mimetype": "text/x-python",
   "name": "python",
   "nbconvert_exporter": "python",
   "pygments_lexer": "ipython3",
   "version": "3.8.13"
  },
  "orig_nbformat": 4,
  "vscode": {
   "interpreter": {
    "hash": "af599ae762b5d1d52d04f722a25f712b8b0d8848f25ac2b5186d65c7fafecc4f"
   }
  }
 },
 "nbformat": 4,
 "nbformat_minor": 2
}
