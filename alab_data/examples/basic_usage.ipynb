{
 "cells": [
  {
   "cell_type": "code",
   "execution_count": 1,
   "metadata": {},
   "outputs": [],
   "source": [
    "from alab_data import Sample, Material, Action, Measurement, Analysis, Ingredient, WholeIngredient, Actor, AnalysisMethod\n",
    "import alab_data.views as views\n",
    "from alab_data.utils.dev import drop_collections"
   ]
  },
  {
   "cell_type": "code",
   "execution_count": 2,
   "metadata": {},
   "outputs": [],
   "source": [
    "drop_collections() #clear the whole database"
   ]
  },
  {
   "cell_type": "markdown",
   "metadata": {},
   "source": [
    "# Defining Actors and AnalysisMethods \n",
    "\n",
    "These entries allow us to track which hardware, software, and operators are performing tasks within the experimental database.\n",
    "\n",
    "`Actor`s perform synthesis `Action`s and `Measurements`. `AnalysisMethods` convert raw `Measurement`s into some useful metrics"
   ]
  },
  {
   "cell_type": "markdown",
   "metadata": {},
   "source": [
    "Add or pull all Actor's from the ActorView"
   ]
  },
  {
   "cell_type": "code",
   "execution_count": 3,
   "metadata": {},
   "outputs": [],
   "source": [
    "actorview = views.ActorView()"
   ]
  },
  {
   "cell_type": "code",
   "execution_count": 4,
   "metadata": {},
   "outputs": [
    {
     "data": {
      "text/plain": [
       "[]"
      ]
     },
     "execution_count": 4,
     "metadata": {},
     "output_type": "execute_result"
    }
   ],
   "source": [
    "actorview.get_by_tags([\"SolidStateALab\"])\n"
   ]
  },
  {
   "cell_type": "code",
   "execution_count": 5,
   "metadata": {},
   "outputs": [
    {
     "data": {
      "text/plain": [
       "ObjectId('632a63e41330c6b33011bdc8')"
      ]
     },
     "execution_count": 5,
     "metadata": {},
     "output_type": "execute_result"
    }
   ],
   "source": [
    "labman = Actor(\n",
    "    name=\"LabMan 30-105\", \n",
    "    tags=[\"SolidStateALab\"],\n",
    "    description=\"A robotic system that weighs and mixes powders in crucibles. Used to prepare samples for firing in furnaces. This is in building 30-105 at Lawrence Berkeley National Laboratory.\")\n",
    "\n",
    "tubefurnace1 = Actor(\n",
    "    name=\"TubeFurnace1 30-105\", \n",
    "    tags=[\"SolidStateALab\"],\n",
    "    description=\"A tube furnace in building 30-105 at Lawrence Berkeley National Laboratory.\")\n",
    "\n",
    "aeris = Actor(\n",
    "    name=\"Aeris 30-105\",\n",
    "    tags=[\"SolidStateALab\"],\n",
    "    description=\"An x-ray diffractometer. This is in building 30-105 at Lawrence Berkeley National Laboratory.\")\n",
    "\n",
    "operator = Actor(\n",
    "    name=\"Operator\",\n",
    "    description = \"A generic actor for any operation performed by a human. No need to name names!\")\n",
    "actorview.add(labman)\n",
    "actorview.add(tubefurnace1)\n",
    "actorview.add(aeris)\n",
    "actorview.add(operator)"
   ]
  },
  {
   "cell_type": "code",
   "execution_count": 6,
   "metadata": {},
   "outputs": [
    {
     "data": {
      "text/plain": [
       "[<Actor: LabMan 30-105>, <Actor: TubeFurnace1 30-105>, <Actor: Aeris 30-105>]"
      ]
     },
     "execution_count": 6,
     "metadata": {},
     "output_type": "execute_result"
    }
   ],
   "source": [
    "actorview.get_by_tags([\"SolidStateALab\"])"
   ]
  },
  {
   "cell_type": "code",
   "execution_count": 7,
   "metadata": {},
   "outputs": [
    {
     "data": {
      "text/plain": [
       "<Actor: LabMan 30-105>"
      ]
     },
     "execution_count": 7,
     "metadata": {},
     "output_type": "execute_result"
    }
   ],
   "source": [
    "labman = actorview.get_by_name(\"LabMan 30-105\")\n",
    "labman"
   ]
  },
  {
   "cell_type": "markdown",
   "metadata": {},
   "source": [
    "Add or pull all analysis methods from AnalysisMethodView"
   ]
  },
  {
   "cell_type": "code",
   "execution_count": 8,
   "metadata": {},
   "outputs": [],
   "source": [
    "analysismethodview = views.AnalysisMethodView()"
   ]
  },
  {
   "cell_type": "code",
   "execution_count": 9,
   "metadata": {},
   "outputs": [
    {
     "data": {
      "text/plain": [
       "ObjectId('632a63e61330c6b33011bdcd')"
      ]
     },
     "execution_count": 9,
     "metadata": {},
     "output_type": "execute_result"
    }
   ],
   "source": [
    "cnn_phaseID = AnalysisMethod(\n",
    "    name=\"CNN Phase ID\", \n",
    "    tags=[\"SolidStateALab\", \"machinelearning\"],\n",
    "    description=\"A convolutional neural network trained to identify phases in x-ray diffraction patterns. doi: something/something\")\n",
    "\n",
    "analysismethodview.add(cnn_phaseID)"
   ]
  },
  {
   "cell_type": "markdown",
   "metadata": {},
   "source": [
    "# Entering experimental data into the database"
   ]
  },
  {
   "cell_type": "markdown",
   "metadata": {},
   "source": [
    "First, we must define the individual nodes (`Action`, `Material`, `Measurement`, and `Analysis`) that will comprise the experimental steps and data for a given `Sample`"
   ]
  },
  {
   "cell_type": "code",
   "execution_count": 10,
   "metadata": {},
   "outputs": [],
   "source": [
    "m0 = Material(\n",
    "    name=\"Titanium Dioxide\",\n",
    "    formula=\"TiO2\",\n",
    ")\n",
    "\n",
    "p0 = Action(    \n",
    "    name=\"procurement\",\n",
    "    generated_materials=[m0],\n",
    "    actor=operator,\n",
    ")"
   ]
  },
  {
   "cell_type": "code",
   "execution_count": 11,
   "metadata": {},
   "outputs": [],
   "source": [
    "p1 = Action(\n",
    "    \"grind\",\n",
    "    ingredients = [\n",
    "        Ingredient(\n",
    "            material=m0,\n",
    "            amount=1,\n",
    "            unit=\"g\",\n",
    "        )\n",
    "    ],\n",
    "    actor=operator,\n",
    "    )\n",
    "m1 = p1.make_generic_generated_material()\n",
    "\n",
    "p2 = Action(\"sinter\", ingredients = [WholeIngredient(m1)], actor=tubefurnace1)\n",
    "m2 = p2.make_generic_generated_material()\n",
    "\n",
    "p3 = Action(\"grind\", ingredients = [WholeIngredient(m2)], actor=operator, final_step=True)\n",
    "m3 = p3.make_generic_generated_material()\n",
    "\n",
    "me0 = Measurement(\n",
    "    name=\"XRD\",\n",
    "    material=m3,\n",
    "    actor=aeris,\n",
    ")\n",
    "\n",
    "a0 = Analysis(\n",
    "    name=\"Phase Identification\",\n",
    "    measurements=[me0],\n",
    "    analysis_method=cnn_phaseID\n",
    ")"
   ]
  },
  {
   "cell_type": "markdown",
   "metadata": {},
   "source": [
    "Next, we will assign these nodes to a single `Sample`. This can be done manually in a few ways:"
   ]
  },
  {
   "cell_type": "code",
   "execution_count": 12,
   "metadata": {},
   "outputs": [],
   "source": [
    "all_nodes = [p0, m0, p1, m1, p2, m2, p3, m3, me0, a0]\n",
    "\n",
    "#if you have all nodes beforehand\n",
    "s = Sample(name=\"first_sample\", nodes=all_nodes)\n",
    "\n",
    "#if you build nodes as you go. Maybe you want to build up the Sample object during the experiment?\n",
    "s = Sample(name=\"first_sample_again\")\n",
    "for n in all_nodes:\n",
    "    s.add_node(n)"
   ]
  },
  {
   "cell_type": "markdown",
   "metadata": {},
   "source": [
    "We can check that the nodes within the Sample constitute a valid directed acyclic graph (DAG).\n",
    "\n",
    "If this returns `False`, we didn't connect the nodes correctly."
   ]
  },
  {
   "cell_type": "code",
   "execution_count": 13,
   "metadata": {},
   "outputs": [
    {
     "data": {
      "text/plain": [
       "True"
      ]
     },
     "execution_count": 13,
     "metadata": {},
     "output_type": "execute_result"
    }
   ],
   "source": [
    "s.has_valid_graph()"
   ]
  },
  {
   "cell_type": "markdown",
   "metadata": {},
   "source": [
    "Up til now, the `Sample` object only lives in this notebook. Now we need to upload it into the database."
   ]
  },
  {
   "cell_type": "code",
   "execution_count": 14,
   "metadata": {},
   "outputs": [],
   "source": [
    "from alab_data.views.groups import SampleView\n",
    "sv = SampleView()"
   ]
  },
  {
   "cell_type": "markdown",
   "metadata": {},
   "source": [
    "`SampleView.add(sample)` does a few things. \n",
    "\n",
    "- First, it ensures that new nodes will not break the graph structures of the total database (at this point, ensures no dangling nodes)\n",
    "- Second, it uploads the individual nodes into their respective collections\n",
    "- Finally, it uploads the `Sample` entry to the sample collection, which maps the `Sample` to the individual nodes."
   ]
  },
  {
   "cell_type": "code",
   "execution_count": 15,
   "metadata": {},
   "outputs": [
    {
     "data": {
      "text/plain": [
       "ObjectId('632a63e91330c6b33011bdd9')"
      ]
     },
     "execution_count": 15,
     "metadata": {},
     "output_type": "execute_result"
    }
   ],
   "source": [
    "sv.add(s)"
   ]
  },
  {
   "cell_type": "markdown",
   "metadata": {},
   "source": [
    "We cannot add the same sample twice. If you have duplicate samples, you should rebuild a new `Sample` object instance."
   ]
  },
  {
   "cell_type": "code",
   "execution_count": 16,
   "metadata": {},
   "outputs": [
    {
     "ename": "ValueError",
     "evalue": "Sample (name=first_sample_again, id=632a63e91330c6b33011bdd9) already exists in the database!",
     "output_type": "error",
     "traceback": [
      "\u001b[0;31m---------------------------------------------------------------------------\u001b[0m",
      "\u001b[0;31mValueError\u001b[0m                                Traceback (most recent call last)",
      "\u001b[1;32m/Users/REKumar/GitHub/alab_data/playground.ipynb Cell 26\u001b[0m in \u001b[0;36m<cell line: 1>\u001b[0;34m()\u001b[0m\n\u001b[0;32m----> <a href='vscode-notebook-cell:/Users/REKumar/GitHub/alab_data/playground.ipynb#X65sZmlsZQ%3D%3D?line=0'>1</a>\u001b[0m sv\u001b[39m.\u001b[39;49madd(s)\n",
      "File \u001b[0;32m~/GitHub/alab_data/alab_data/views/groups.py:41\u001b[0m, in \u001b[0;36mSampleView.add\u001b[0;34m(self, entry)\u001b[0m\n\u001b[1;32m     39\u001b[0m         \u001b[39mpass\u001b[39;00m  \u001b[39m# entry is not in db, we can proceed to add it\u001b[39;00m\n\u001b[1;32m     40\u001b[0m \u001b[39mif\u001b[39;00m found_in_db:\n\u001b[0;32m---> 41\u001b[0m     \u001b[39mraise\u001b[39;00m \u001b[39mValueError\u001b[39;00m(\n\u001b[1;32m     42\u001b[0m         \u001b[39mf\u001b[39m\u001b[39m\"\u001b[39m\u001b[39m{\u001b[39;00m\u001b[39mself\u001b[39m\u001b[39m.\u001b[39m_entry_class\u001b[39m.\u001b[39m\u001b[39m__name__\u001b[39m\u001b[39m}\u001b[39;00m\u001b[39m (name=\u001b[39m\u001b[39m{\u001b[39;00mentry\u001b[39m.\u001b[39mname\u001b[39m}\u001b[39;00m\u001b[39m, id=\u001b[39m\u001b[39m{\u001b[39;00mentry\u001b[39m.\u001b[39mid\u001b[39m}\u001b[39;00m\u001b[39m) already exists in the database!\u001b[39m\u001b[39m\"\u001b[39m\n\u001b[1;32m     43\u001b[0m     )\n\u001b[1;32m     45\u001b[0m \u001b[39m# TODO check all nodes before uploading so we dont put half the nodes in before hitting a snag.\u001b[39;00m\n\u001b[1;32m     46\u001b[0m \u001b[39mif\u001b[39;00m \u001b[39mnot\u001b[39;00m \u001b[39mself\u001b[39m\u001b[39m.\u001b[39m_has_valid_graph_in_db(entry):\n",
      "\u001b[0;31mValueError\u001b[0m: Sample (name=first_sample_again, id=632a63e91330c6b33011bdd9) already exists in the database!"
     ]
    }
   ],
   "source": [
    "sv.add(s)"
   ]
  },
  {
   "cell_type": "markdown",
   "metadata": {},
   "source": [
    "## Shortcut to building `Sample`'s with a simple, linear process\n",
    "\n",
    "As experimentalists, we often only know the initial `Material`'s and the sequence of synthesis `Action`'s. This is a simple linear graph, for which we have a shortcut method to skip the tedium of generating intermediate `Material`'s with which we do nothing.\n",
    "\n",
    "Define your `Action`s as well as you can (_ie_ fill in the ingredients and generated_materials wherever possible). The rest will be filled in with generic, placeholder `Material`'s to stitch the `Action`'s into a valid graph."
   ]
  },
  {
   "cell_type": "code",
   "execution_count": 17,
   "metadata": {},
   "outputs": [],
   "source": [
    "# I know the starting material quite well, so I define it as usual.\n",
    "m0 = Material(\n",
    "    name=\"Titanium Dioxide\",\n",
    "    formula=\"TiO2\",\n",
    ")\n",
    "\n",
    "p0 = Action(    \n",
    "    name=\"procurement\",\n",
    "    generated_materials=[m0],\n",
    "    actor=operator,\n",
    ")"
   ]
  },
  {
   "cell_type": "code",
   "execution_count": 18,
   "metadata": {},
   "outputs": [],
   "source": [
    "# I know what was done by which actors, but thats about it.\n",
    "p1 = Action(\n",
    "    \"grind\",\n",
    "    actor=operator,\n",
    "    )\n",
    "p2 = Action(\"sinter\", actor=tubefurnace1)\n",
    "p3 = Action(\"grind\", actor=operator, final_step=True)"
   ]
  },
  {
   "cell_type": "code",
   "execution_count": 19,
   "metadata": {},
   "outputs": [],
   "source": [
    "# I also know that I measured the outputs of p3. I'll make a generic output material to link to the Measurement.\n",
    "\n",
    "m_final = p3.make_generic_generated_material()\n",
    "\n",
    "me0 = Measurement(\n",
    "    name=\"XRD\",\n",
    "    material=m_final,\n",
    "    actor=aeris,\n",
    ")\n",
    "\n",
    "a0 = Analysis(\n",
    "    name=\"Phase Identification\",\n",
    "    measurements=[me0],\n",
    "    analysis_method=cnn_phaseID\n",
    ")"
   ]
  },
  {
   "cell_type": "markdown",
   "metadata": {},
   "source": [
    "Now I can use the shortcut to build the linear `... Action -> Material -> Action ...` graph."
   ]
  },
  {
   "cell_type": "code",
   "execution_count": 20,
   "metadata": {},
   "outputs": [
    {
     "data": {
      "text/plain": [
       "True"
      ]
     },
     "execution_count": 20,
     "metadata": {},
     "output_type": "execute_result"
    }
   ],
   "source": [
    "s = Sample(name=\"shortcut_sample\")\n",
    "s.add_linear_process(actions=[p0, p1, p2, p3])\n",
    "s.add_node(me0)\n",
    "s.add_node(a0)\n",
    "s.has_valid_graph()"
   ]
  },
  {
   "cell_type": "code",
   "execution_count": 21,
   "metadata": {},
   "outputs": [
    {
     "data": {
      "text/plain": [
       "ObjectId('632a63f21330c6b33011bdfe')"
      ]
     },
     "execution_count": 21,
     "metadata": {},
     "output_type": "execute_result"
    }
   ],
   "source": [
    "sv.add(s)"
   ]
  },
  {
   "cell_type": "markdown",
   "metadata": {},
   "source": [
    "# Adding extra fields to database entries\n",
    "\n",
    "In the prior examples, only the required information has been provided to generate the experiment graph + add to the database. In real life, we want to attach metadata (process parameters, measured data, etc) to the graph nodes. This is pretty easy -- just pass them as additional keyword arguments when you define the nodes. Here is the same example, but with some metadata attached."
   ]
  },
  {
   "cell_type": "code",
   "execution_count": 28,
   "metadata": {},
   "outputs": [],
   "source": [
    "# I know the starting material quite well, so I define it as usual.\n",
    "m0 = Material(\n",
    "    name=\"Titanium Dioxide\",\n",
    "    formula=\"TiO2\",\n",
    ")\n",
    "\n",
    "p0 = Action(    \n",
    "    name=\"procurement\",\n",
    "    supplier=\"Alfa Aesar\",\n",
    "    CAS_number = \"13463-67-7\",\n",
    "    price = \"$100/gram\",\n",
    "    generated_materials=[m0],\n",
    "    actor=operator,\n",
    ")"
   ]
  },
  {
   "cell_type": "code",
   "execution_count": 29,
   "metadata": {},
   "outputs": [],
   "source": [
    "# I know what was done by which actors, but thats about it.\n",
    "p1 = Action(\n",
    "    \"grind\",\n",
    "    actor=operator,\n",
    "    instrument=\"mortar and pestle\",\n",
    "    duration=\"1 hour\",\n",
    "    )\n",
    "p2 = Action(\n",
    "    \"sinter\", \n",
    "    actor=tubefurnace1, \n",
    "    temperature_celsius=1000,\n",
    "    duration_hours = 4,\n",
    ")\n",
    "p3 = Action(\n",
    "    \"grind\", \n",
    "    actor=operator, \n",
    "    final_step=True,\n",
    "    instrument=\"mortar and pestle\",\n",
    "    duration=\"1 hour\", #sounds like a rough day\n",
    "    )"
   ]
  },
  {
   "cell_type": "code",
   "execution_count": 30,
   "metadata": {},
   "outputs": [],
   "source": [
    "# I also know that I measured the outputs of p3. I'll make a generic output material to link to the Measurement.\n",
    "\n",
    "m_final = p3.make_generic_generated_material()\n",
    "\n",
    "me0 = Measurement(\n",
    "    name=\"XRD\",\n",
    "    material=m_final,\n",
    "    actor=aeris,\n",
    "    settings = {\n",
    "        \"angle_min\": 10,\n",
    "        \"angle_max\": 80,\n",
    "        \"angle_step\": 0.1,\n",
    "        \"exposure_time\": 0.1,\n",
    "    },\n",
    "    data = {\n",
    "        \"x\": [10, 20, 30, 40, 50, 60, 70, 80],\n",
    "        \"y\": [0.1, 0.2, 0.3, 0.4, 0.5, 0.6, 0.7, 0.8],\n",
    "    }\n",
    ")\n",
    "\n",
    "a0 = Analysis(\n",
    "    name=\"Phase Identification\",\n",
    "    measurements=[me0],\n",
    "    analysis_method=cnn_phaseID,\n",
    "    results = [\n",
    "        {\"phase\": \"TiO2\", \"ICSD_coll\": 1234, \"fraction\": 0.9},\n",
    "        {\"phase\": \"TiO\", \"ICSD_coll\": 5678, \"fraction\": 0.1},\n",
    "    ]\n",
    ")"
   ]
  },
  {
   "cell_type": "code",
   "execution_count": 31,
   "metadata": {},
   "outputs": [
    {
     "data": {
      "text/plain": [
       "True"
      ]
     },
     "execution_count": 31,
     "metadata": {},
     "output_type": "execute_result"
    }
   ],
   "source": [
    "s = Sample(name=\"shortcut_sample\")\n",
    "s.add_linear_process(actions=[p0, p1, p2, p3])\n",
    "s.add_node(me0)\n",
    "s.add_node(a0)\n",
    "s.has_valid_graph()"
   ]
  },
  {
   "cell_type": "code",
   "execution_count": 32,
   "metadata": {},
   "outputs": [
    {
     "data": {
      "text/plain": [
       "ObjectId('632a65741330c6b33011be10')"
      ]
     },
     "execution_count": 32,
     "metadata": {},
     "output_type": "execute_result"
    }
   ],
   "source": [
    "sv.add(s)"
   ]
  },
  {
   "cell_type": "markdown",
   "metadata": {},
   "source": [
    "# Extras"
   ]
  },
  {
   "cell_type": "markdown",
   "metadata": {},
   "source": [
    "For fun, you can plot the experimental graph for a given sample. Maybe this is qualitatively useful.\n",
    "\n",
    "- Orange = Action\n",
    "- Blue = Material\n",
    "- Red = Measurement\n",
    "- Green = Analysis"
   ]
  },
  {
   "cell_type": "code",
   "execution_count": 33,
   "metadata": {},
   "outputs": [
    {
     "data": {
      "image/png": "[encoded data removed]",
      "text/plain": [
       "<Figure size 640x480 with 1 Axes>"
      ]
     },
     "metadata": {},
     "output_type": "display_data"
    }
   ],
   "source": [
    "s.plot()"
   ]
  },
  {
   "cell_type": "code",
   "execution_count": null,
   "metadata": {},
   "outputs": [],
   "source": []
  }
 ],
 "metadata": {
  "kernelspec": {
   "display_name": "Python 3.8.13 ('alab_data')",
   "language": "python",
   "name": "python3"
  },
  "language_info": {
   "codemirror_mode": {
    "name": "ipython",
    "version": 3
   },
   "file_extension": ".py",
   "mimetype": "text/x-python",
   "name": "python",
   "nbconvert_exporter": "python",
   "pygments_lexer": "ipython3",
   "version": "3.8.13"
  },
  "orig_nbformat": 4,
  "vscode": {
   "interpreter": {
    "hash": "af599ae762b5d1d52d04f722a25f712b8b0d8848f25ac2b5186d65c7fafecc4f"
   }
  }
 },
 "nbformat": 4,
 "nbformat_minor": 2
}
